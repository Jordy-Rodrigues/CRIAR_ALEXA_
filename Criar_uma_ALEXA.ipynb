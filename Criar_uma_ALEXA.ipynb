{
  "nbformat": 4,
  "nbformat_minor": 0,
  "metadata": {
    "colab": {
      "name": "Criar uma ALEXA",
      "provenance": [],
      "collapsed_sections": [],
      "authorship_tag": "ABX9TyNi/UtyWv5bt2/e4Kd4gLjW"
    },
    "kernelspec": {
      "name": "python3",
      "display_name": "Python 3"
    },
    "language_info": {
      "name": "python"
    }
  },
  "cells": [
    {
      "cell_type": "code",
      "execution_count": null,
      "metadata": {
        "id": "TJ9ibfqd4JvQ"
      },
      "outputs": [],
      "source": [
        " # INSTALAR AS BIBLIOTECAS NECESSÁRIAS\n",
        "!pip install SpeechRecognition\n",
        "!pip install pyttsx3\n",
        "!pip install PyAudio\n",
        "!pip install wikipedia\n",
        "!pip install pywhatkit"
      ]
    },
    {
      "cell_type": "code",
      "source": [
        "# IMPORTAR AS BIBLIOTECAS \n",
        "\n",
        "# BIBLIOTECA PARA REALIZAÇÃO DE RECONHECIMENTO DE FALA\n",
        "import speech_recognition as sr\n",
        "# BIBLIOTECA DE CONVERSÃO DE TEXTO PARA FALA \n",
        "import pyttsx3\n",
        "# BIBLIOTECA QUE USEI PARA FALAR A HORA\n",
        "import datetime\n",
        "# BIBLIOTECA PARA PESQUISA NO WIKIPEDIA\n",
        "import wikipedia\n",
        "# BIBLIOTECA PARA IR PROCURAR NO YOUTUBE\n",
        "import pywhatkit"
      ],
      "metadata": {
        "id": "TbZD-m5GloDF"
      },
      "execution_count": null,
      "outputs": []
    },
    {
      "cell_type": "code",
      "source": [
        "# CHAMAR O ALGORITMO DE RECONHECIMENTO DE FALA\n",
        "audio = sr.Recognizer()\n",
        "# CHAMAR O ALGORITMO DE CONVERSÃO DE TEXTO PARA FALA\n",
        "maquina =pyttsx3.init()"
      ],
      "metadata": {
        "id": "5Ysgd8iYl5hP"
      },
      "execution_count": null,
      "outputs": []
    },
    {
      "cell_type": "code",
      "source": [
        "# COMANDO DE VOZ DA INTELIÊNCIA ARTIFICIAL\n",
        "def executa_comando():\n",
        "\n",
        "# CRIAR UM BLOCO 'TRY','EXCEPT' SI NÃO OUVER ERRO ELE VAI CONTINUAR, CASO ACHA UM ERRO, VAI INTERROMPER O CÓDIGO\n",
        "  try:\n",
        "    # ATIVAR O MICROFONE\n",
        "    with sr.Microphone() as source\n",
        "      # APARECER A MENSAGEM\n",
        "      print('Ouvindo...')\n",
        "      # ESCUTAR O QUE ESTA SENDO DITO\n",
        "      voz = audio.listen(source)\n",
        "      # UTILIZAR A BIBLIOTECA DO GOOGLE, E VAMOS PASSAR O IDIOMA FALADO PARA PORTUGUÊS\n",
        "      comando = audio.recognize_google(voz, language='pt-BR')\n",
        "      # TUDAS AS LETRAS MINÚSCULAS\n",
        "      comando = comando.lower()\n",
        "\n",
        "     # NOME DA INTELIGÊNCIA ARTIFICIAL  \n",
        "      if 'alexa' in comando:\n",
        "        # O COMANDO VAI RETIRAR O NOME 'ALEXA', E FICAR O RESTANTE FALADO\n",
        "        comando = comando.replace('alexa', '')\n",
        "        # ENFILEIRA UM COMANDO PARA FALAR UM ENUNCIADO, A FALA É EMITIDA DE ACORDO COM AS PROPRIEDADES DEFINIDAS ANTES DESTE COMANDO\n",
        "        maquina.say(comando)\n",
        "        # BLOQUEIA DURANTE O PROCESSAMENTO DE TODOS OS COMANDOS ENFILEIRADOS NO MOMENTO\n",
        "        maquina.runAndWait()\n",
        "       \n",
        "    except:\n",
        "      # CASO TENHA UM ERRO NA EXECUÇÃO DO PROGRAMA, EXIBIR MENSAGEM\n",
        "      print('Microfone não está ok')\n",
        "\n",
        "    return comando"
      ],
      "metadata": {
        "id": "4j1Lax1xmDpo"
      },
      "execution_count": null,
      "outputs": []
    },
    {
      "cell_type": "code",
      "source": [
        "# COMANDO DE VOZ DO USUÁRIO\n",
        "def comando_voz_usuario():\n",
        "  \n",
        "  # EXECUTAR O ÁUDIO FALADO \n",
        "  comando = executa_comando()\n",
        "  # FUNÇÃO PARA O ALGORITMO FALAR A HORA\n",
        "  if 'horas' in comando:\n",
        "    # DEFINIR O FORMATO COMO O ALGORITMO IRA RESPONDER A HORA\n",
        "    hora = datetime.datetime.now().strftime('%H:%M')\n",
        "    # COMO A INTELIGÊNCIA VAI RESPONDER\n",
        "    maquina.say('Agora são'+ hora)\n",
        "    maquina.runAndWait()\n",
        "\n",
        "  # FAZER A PROCURA NO WIKIPEDIA\n",
        "  elif 'Procure por' in comando:\n",
        "    # DEFINIR O FARMATO COMO O ALGORITMO IRA FAZER A PROCURA NO WIKIPEDIA A PARTIR DA PALAVRA procure por\n",
        "    procurar = comando.replace('procure por', '')\n",
        "    # PASSO O IDIOMA COMO PORTUGUÊS\n",
        "    wikipedia.set_lang('pt')\n",
        "    # DEFINIR QUE VAI SER UM SUMÁRIO E VAI LER 2 LINHAS\n",
        "    resultado = wikipedia.summary(procurar, 2)\n",
        "    # IMPRIMIR O TEXTO\n",
        "    print(resultado)\n",
        "    # FALAR O CONTEÚDO DA VARIÁVEL  resultado\n",
        "    maquina.say(resultado)\n",
        "    maquina.runAndWait()\n",
        "\n",
        "  # FAZER A PROCURA NO YOUTUBE\n",
        "  elif 'toque' in comando:\n",
        "    # DEFINIR O FORMATO COMO O ALGORITMO IRA FAZER A PROCURA NO YOUTUBE A PARTIR DA PALAVRA toque\n",
        "    musica = comando.replace('toque', '')\n",
        "    # PROCURAR A MÚSICA\n",
        "    resultado = pywhatkit.playonyt(musica)\n",
        "    # FALAR\n",
        "    maquina.say('Tocando musica')\n",
        "    maquina.runAndWait()\n",
        "\n",
        "\n",
        "comando_voz_usuario()"
      ],
      "metadata": {
        "id": "hOaGENJnpOwu"
      },
      "execution_count": null,
      "outputs": []
    }
  ]
}